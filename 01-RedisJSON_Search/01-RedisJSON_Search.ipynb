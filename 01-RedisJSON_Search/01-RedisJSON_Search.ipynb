{
  "cells": [
    {
      "cell_type": "markdown",
      "metadata": {
        "id": "view-in-github",
        "colab_type": "text"
      },
      "source": [
        "<a href=\"https://colab.research.google.com/github/gacerioni/Redis-VectorDB-LLM-RAG-Workshop/blob/main/01-RedisJSON_Search/01-RedisJSON_Search.ipynb\" target=\"_parent\"><img src=\"https://colab.research.google.com/assets/colab-badge.svg\" alt=\"Open In Colab\"/></a>"
      ]
    },
    {
      "cell_type": "markdown",
      "metadata": {
        "id": "LDFnzeLwjmXL"
      },
      "source": [
        "# RedisJSON e RediSearch\n",
        "\n",
        "![Redis](https://redis.io/wp-content/uploads/2024/04/Logotype.svg?auto=webp&quality=85,75&width=120)\n",
        "\n",
        "Esse notebook é uma adaptação simplificada do material que já existe na documentação. Aqui, é o nosso viés para Demo, mas o conhecimento é equivalente.\n",
        "\n",
        "Para uma experiência premium, como a que eu quero que vocês tenham, recomendo MUITO utilizar o Redis Insight (App ou Web) pra apoiar na visualização dos dados.\n",
        "\n",
        "https://redis.com/redis-enterprise/redis-insight/"
      ]
    },
    {
      "cell_type": "markdown",
      "source": [
        "## Setup Rápido - e testes pra ver se tá tudo redondo antes de iniciar o lab"
      ],
      "metadata": {
        "id": "Px9l1ToXAD90"
      }
    },
    {
      "cell_type": "code",
      "execution_count": 44,
      "metadata": {
        "id": "maAiICvM-cTX"
      },
      "outputs": [],
      "source": [
        "# Install the requirements\n",
        "!pip install -q redis"
      ]
    },
    {
      "cell_type": "code",
      "execution_count": 45,
      "metadata": {
        "colab": {
          "base_uri": "https://localhost:8080/"
        },
        "id": "6CjMuWlOxYoZ",
        "outputId": "d5aee71a-394d-4680-a7ef-847a4f98dc33"
      },
      "outputs": [
        {
          "output_type": "stream",
          "name": "stdout",
          "text": [
            "deb [signed-by=/usr/share/keyrings/redis-archive-keyring.gpg] https://packages.redis.io/deb jammy main\n",
            "Starting redis-stack-server, database path /var/lib/redis-stack\n"
          ]
        },
        {
          "output_type": "stream",
          "name": "stderr",
          "text": [
            "gpg: cannot open '/dev/tty': No such device or address\n",
            "curl: (23) Failed writing body\n"
          ]
        }
      ],
      "source": [
        "%%sh\n",
        "curl -fsSL https://packages.redis.io/gpg | sudo gpg --dearmor -o /usr/share/keyrings/redis-archive-keyring.gpg\n",
        "echo \"deb [signed-by=/usr/share/keyrings/redis-archive-keyring.gpg] https://packages.redis.io/deb $(lsb_release -cs) main\" | sudo tee /etc/apt/sources.list.d/redis.list\n",
        "sudo apt-get update  > /dev/null 2>&1\n",
        "sudo apt-get install redis-stack-server  > /dev/null 2>&1\n",
        "redis-stack-server --daemonize yes\n"
      ]
    },
    {
      "cell_type": "code",
      "execution_count": 46,
      "metadata": {
        "id": "x47s7mlR_zYB",
        "colab": {
          "base_uri": "https://localhost:8080/"
        },
        "outputId": "5b04ba70-63d6-45d4-ad18-7f3fd95a6391"
      },
      "outputs": [
        {
          "output_type": "stream",
          "name": "stdout",
          "text": [
            "PONG\n"
          ]
        }
      ],
      "source": [
        "import os\n",
        "\n",
        "REDIS_HOST = os.getenv(\"REDIS_HOST\", \"localhost\")\n",
        "REDIS_PORT = os.getenv(\"REDIS_PORT\", \"6379\")\n",
        "REDIS_PASSWORD = os.getenv(\"REDIS_PASSWORD\", \"\")\n",
        "\n",
        "# Troque estes valores, caso voce esteja usando o Redis Cloud. Eu estou, rsrs.\n",
        "REDIS_HOST=\"redis-19581.c308.sa-east-1-1.ec2.redns.redis-cloud.com\"\n",
        "REDIS_PORT=19581\n",
        "REDIS_PASSWORD=\"nhtuquVSLbh2kUt2I86z5QwGu3KrcaYx\"\n",
        "\n",
        "# If SSL is enabled on the endpoint add --tls\n",
        "if REDIS_PASSWORD!=\"\":\n",
        "  os.environ[\"REDIS_CONN\"]=f\"-h {REDIS_HOST} -p {REDIS_PORT} -a {REDIS_PASSWORD} --no-auth-warning\"\n",
        "else:\n",
        "  os.environ[\"REDIS_CONN\"]=f\"-h {REDIS_HOST} -p {REDIS_PORT}\"\n",
        "\n",
        "# If SSL is enabled on the endpoint, use rediss:// as the URL prefix\n",
        "REDIS_URL = f\"redis://:{REDIS_PASSWORD}@{REDIS_HOST}:{REDIS_PORT}\"\n",
        "INDEX_NAME = f\"qna:idx\"\n",
        "\n",
        "# Test Redis connection\n",
        "!redis-cli $REDIS_CONN PING"
      ]
    },
    {
      "cell_type": "code",
      "execution_count": 47,
      "metadata": {
        "colab": {
          "base_uri": "https://localhost:8080/"
        },
        "id": "DbKb8mnWQO-5",
        "outputId": "fcb0d749-7590-46f8-d6ae-cd140d7886f1"
      },
      "outputs": [
        {
          "output_type": "execute_result",
          "data": {
            "text/plain": [
              "True"
            ]
          },
          "metadata": {},
          "execution_count": 47
        }
      ],
      "source": [
        "import redis\n",
        "r = redis.Redis(\n",
        "  host=REDIS_HOST,\n",
        "  port=REDIS_PORT,\n",
        "  password=REDIS_PASSWORD)\n",
        "r.ping()"
      ]
    },
    {
      "cell_type": "markdown",
      "metadata": {
        "id": "x1V1E2Nmjva4"
      },
      "source": [
        "## RedisJSON\n",
        "\n",
        "**RedisJSON** adiciona o tipo de dado **JSON** ao Redis para que você possa trabalhar com dados JSON **nativamente** no Redis, sem tratar o JSON inteiro como uma grande string e constantemente serializar/desserializar JSON no cliente.\n",
        "\n",
        "Isso também significa que eu estou criando um **modelo/schema**. Os campos do JSON são tipados e possuem metacaracterísticas que vão ajudar muito vocês na hora de buscar dados no Redis. Buscas multi-facetadas, de vetor, de geolocalização, com filtros e transoformações que ocorrerão do lado do Redis, evitando multiplos round trips para o backend.\n",
        "\n",
        "*Em outras palavras, você tira o que quer do Redis indo só uma vez até ele, inclusive filtrando exatamente o que você quer que passe pelo fio até sua aplicação.*\n",
        "\n",
        "\n",
        "-----\n",
        "\n",
        "\n",
        "Com uma biblioteca cliente como Python, você pode usar comandos como `redis.json().get()` e `redis.json().set()`, e no Redis CLI, JSON.GET, JSON.SET entre outros.\n",
        "\n",
        "Eu, particularmente, prefiro usar as bibliotecas de Object Mapping, como a [REDISOM](https://redis.io/docs/latest/integrate/redisom-for-python/).\n",
        "\n",
        "-----\n",
        "\n",
        "Veja a lista completa de comandos do RedisJSON aqui: https://redis.io/commands/?group=json\n",
        "\n",
        "Documentação Python: https://redis-py.readthedocs.io/en/stable/redismodules.html#redisjson-commands\n"
      ]
    },
    {
      "cell_type": "code",
      "execution_count": 48,
      "metadata": {
        "id": "dMtz_Ak7VOTk"
      },
      "outputs": [],
      "source": [
        "schools = [\n",
        "    {\n",
        "        \"name\": \"Colégio Bandeirantes\",\n",
        "        \"description\": \"Abrangendo 10 estados, o currículo premiado desta escola inclui um sistema de leitura abrangente (do reconhecimento de letras e fonética à leitura de livros completos), além de matemática, ciências, estudos sociais e até filosofia.\",\n",
        "        \"class\": \"independente\",\n",
        "        \"type\": [\"tradicional\"],\n",
        "        \"address\": {\"city\": \"São Paulo\", \"street\": \"Rua Estela\"},\n",
        "        \"students\": 342,\n",
        "        \"location\": {\"latitude\": -23.550520, \"longitude\": -46.633308},\n",
        "        \"status_log\": [\"novo\", \"em operação\"],\n",
        "        \"teachers\": [\n",
        "            {\n",
        "                \"name\": \"Ana Silva\",\n",
        "                \"subjects\": [\"Matemática\", \"Física\"]\n",
        "            },\n",
        "            {\n",
        "                \"name\": \"Carlos Souza\",\n",
        "                \"subjects\": [\"História\", \"Geografia\"]\n",
        "            }\n",
        "        ],\n",
        "        \"tags\": \"excelência acadêmica, tecnologia, inovação\"\n",
        "    },\n",
        "    {\n",
        "        \"name\": \"Escola Maria Imaculada (Chapel School)\",\n",
        "        \"description\": \"A Garden School é uma nova e inovadora experiência de ensino e aprendizado ao ar livre, oferecendo atividades ricas e variadas em um ambiente natural para crianças e famílias.\",\n",
        "        \"class\": \"estadual\",\n",
        "        \"type\": [\"floresta\", \"montessori\"],\n",
        "        \"address\": {\"city\": \"São Paulo\", \"street\": \"Avenida Vicente Rao\"},\n",
        "        \"students\": 1452,\n",
        "        \"location\": {\"latitude\": -23.621993, \"longitude\": -46.699687},\n",
        "        \"status_log\": [\"novo\", \"em operação\"],\n",
        "        \"teachers\": [\n",
        "            {\n",
        "                \"name\": \"Mariana Costa\",\n",
        "                \"subjects\": [\"Biologia\", \"Química\"]\n",
        "            },\n",
        "            {\n",
        "                \"name\": \"Rafael Lima\",\n",
        "                \"subjects\": [\"Português\", \"Literatura\"]\n",
        "            }\n",
        "        ],\n",
        "        \"tags\": \"educação ao ar livre, inovação, sustentabilidade\"\n",
        "    },\n",
        "    {\n",
        "        \"name\": \"Colégio São Luís\",\n",
        "        \"description\": \"A Gillford School é um centro de aprendizado inclusivo que acolhe pessoas de todos os estilos de vida, convidando-as a assumir seu papel como agentes regenerativos, criando novos caminhos para o futuro e incitando um movimento internacional de transformação cultural, territorial e social.\",\n",
        "        \"class\": \"privada\",\n",
        "        \"type\": [\"democrática\", \"waldorf\"],\n",
        "        \"address\": {\"city\": \"São Paulo\", \"street\": \"Rua Haddock Lobo\"},\n",
        "        \"students\": 721,\n",
        "        \"location\": {\"latitude\": -23.558704, \"longitude\": -46.660213},\n",
        "        \"status_log\": [\"novo\", \"em operação\", \"fechada\"],\n",
        "        \"teachers\": [\n",
        "            {\n",
        "                \"name\": \"Beatriz Mendes\",\n",
        "                \"subjects\": [\"Filosofia\", \"Sociologia\"]\n",
        "            },\n",
        "            {\n",
        "                \"name\": \"Fernando Almeida\",\n",
        "                \"subjects\": [\"Artes\", \"Educação Física\"]\n",
        "            }\n",
        "        ],\n",
        "        \"tags\": \"inclusão, transformação social, interdisciplinaridade\"\n",
        "    },\n",
        "    {\n",
        "        \"name\": \"Escola Sesc de Ensino Médio\",\n",
        "        \"description\": \"A filosofia por trás da Forest School baseia-se no desejo de proporcionar às crianças pequenas uma educação que incentive a apreciação do mundo amplo na natureza, enquanto alcançam independência, confiança e alta autoestima.\",\n",
        "        \"class\": \"independente\",\n",
        "        \"type\": [\"floresta\", \"montessori\", \"democrática\"],\n",
        "        \"address\": {\"city\": \"Rio de Janeiro\", \"street\": \"Rua Jacarepaguá\"},\n",
        "        \"students\": 1200,\n",
        "        \"location\": {\"latitude\": -22.972250, \"longitude\": -43.375162},\n",
        "        \"status_log\": [\"novo\", \"em operação\"],\n",
        "        \"teachers\": [\n",
        "            {\n",
        "                \"name\": \"Luciana Oliveira\",\n",
        "                \"subjects\": [\"Ciências\", \"Matemática\"]\n",
        "            },\n",
        "            {\n",
        "                \"name\": \"Paulo Santos\",\n",
        "                \"subjects\": [\"História\", \"Geografia\"]\n",
        "            }\n",
        "        ],\n",
        "        \"tags\": \"natureza, independência, confiança\"\n",
        "    },\n",
        "    {\n",
        "        \"name\": \"Escola Móbile\",\n",
        "        \"description\": \"A Escola Móbile oferece um programa acadêmico rigoroso combinado com foco em pensamento crítico e criatividade, preparando os alunos para o ensino superior e além.\",\n",
        "        \"class\": \"privada\",\n",
        "        \"type\": [\"tradicional\"],\n",
        "        \"address\": {\"city\": \"São Paulo\", \"street\": \"Rua Cotovia\"},\n",
        "        \"students\": 600,\n",
        "        \"location\": {\"latitude\": -23.592920, \"longitude\": -46.676201},\n",
        "        \"status_log\": [\"novo\", \"em operação\"],\n",
        "        \"teachers\": [\n",
        "            {\n",
        "                \"name\": \"Juliana Pereira\",\n",
        "                \"subjects\": [\"Química\", \"Biologia\"]\n",
        "            },\n",
        "            {\n",
        "                \"name\": \"Ricardo Fernandes\",\n",
        "                \"subjects\": [\"Português\", \"Inglês\"]\n",
        "            }\n",
        "        ],\n",
        "        \"tags\": \"rigor acadêmico, pensamento crítico, criatividade\"\n",
        "    },\n",
        "    {\n",
        "        \"name\": \"Colégio Santa Cruz\",\n",
        "        \"description\": \"O Colégio Santa Cruz é conhecido por seu forte desempenho acadêmico e compromisso com a responsabilidade social, promovendo um senso de comunidade entre os alunos.\",\n",
        "        \"class\": \"privada\",\n",
        "        \"type\": [\"tradicional\", \"religiosa\"],\n",
        "        \"address\": {\"city\": \"São Paulo\", \"street\": \"Rua Orobó\"},\n",
        "        \"students\": 1300,\n",
        "        \"location\": {\"latitude\": -23.547680, \"longitude\": -46.712750},\n",
        "        \"status_log\": [\"novo\", \"em operação\"],\n",
        "        \"teachers\": [\n",
        "            {\n",
        "                \"name\": \"Gabriela Rocha\",\n",
        "                \"subjects\": [\"Religião\", \"Filosofia\"]\n",
        "            },\n",
        "            {\n",
        "                \"name\": \"Eduardo Matos\",\n",
        "                \"subjects\": [\"Educação Física\", \"Ciências\"]\n",
        "            }\n",
        "        ],\n",
        "        \"tags\": \"desempenho acadêmico, responsabilidade social, comunidade\"\n",
        "    },\n",
        "    {\n",
        "        \"name\": \"Colégio Rio Branco\",\n",
        "        \"description\": \"O Colégio Rio Branco oferece um currículo diversificado com forte ênfase em línguas, artes e ciências, preparando os alunos para a cidadania global.\",\n",
        "        \"class\": \"privada\",\n",
        "        \"type\": [\"internacional\"],\n",
        "        \"address\": {\"city\": \"São Paulo\", \"street\": \"Rua Alves Guimarães\"},\n",
        "        \"students\": 1100,\n",
        "        \"location\": {\"latitude\": -23.555451, \"longitude\": -46.670912},\n",
        "        \"status_log\": [\"novo\", \"em operação\"],\n",
        "        \"teachers\": [\n",
        "            {\n",
        "                \"name\": \"Marcelo Andrade\",\n",
        "                \"subjects\": [\"Inglês\", \"Espanhol\"]\n",
        "            },\n",
        "            {\n",
        "                \"name\": \"Sofia Ribeiro\",\n",
        "                \"subjects\": [\"Artes\", \"História\"]\n",
        "            }\n",
        "        ],\n",
        "        \"tags\": \"línguas, artes, cidadania global\"\n",
        "    }\n",
        "]\n",
        "\n",
        "\n",
        "\n",
        "# carregar os dados do Redis... algumas escolas do Brasilzão\n",
        "for id, school in enumerate(schools):\n",
        "    #print(school)\n",
        "    r.json().set(f\"school_json:{id}\", '.', school)"
      ]
    },
    {
      "cell_type": "code",
      "execution_count": 49,
      "metadata": {
        "colab": {
          "base_uri": "https://localhost:8080/"
        },
        "id": "5NtYQYlPXCIO",
        "outputId": "704b96ab-2ca1-47b4-87da-24463bb523f9"
      },
      "outputs": [
        {
          "output_type": "stream",
          "name": "stdout",
          "text": [
            "\"[{\\\"name\\\":\\\"Escola Maria Imaculada (Chapel School)\\\",\\\"description\\\":\\\"A Garden School \\xc3\\xa9 uma nova e inovadora experi\\xc3\\xaancia de ensino e aprendizado ao ar livre, oferecendo atividades ricas e variadas em um ambiente natural para crian\\xc3\\xa7as e fam\\xc3\\xadlias.\\\",\\\"class\\\":\\\"estadual\\\",\\\"type\\\":[\\\"floresta\\\",\\\"montessori\\\"],\\\"address\\\":{\\\"city\\\":\\\"S\\xc3\\xa3o Paulo\\\",\\\"street\\\":\\\"Avenida Vicente Rao\\\"},\\\"students\\\":1452,\\\"location\\\":{\\\"latitude\\\":-23.621993,\\\"longitude\\\":-46.699687},\\\"status_log\\\":[\\\"novo\\\",\\\"em opera\\xc3\\xa7\\xc3\\xa3o\\\"],\\\"teachers\\\":[{\\\"name\\\":\\\"Mariana Costa\\\",\\\"subjects\\\":[\\\"Biologia\\\",\\\"Qu\\xc3\\xadmica\\\"]},{\\\"name\\\":\\\"Rafael Lima\\\",\\\"subjects\\\":[\\\"Portugu\\xc3\\xaas\\\",\\\"Literatura\\\"]}],\\\"tags\\\":\\\"educa\\xc3\\xa7\\xc3\\xa3o ao ar livre, inova\\xc3\\xa7\\xc3\\xa3o, sustentabilidade\\\"}]\"\n",
            "1) \"school_json:4\"\n",
            "2) \"school_json:6\"\n",
            "3) \"school_json:1\"\n",
            "4) \"school_json:5\"\n",
            "5) \"school_json:3\"\n",
            "6) \"school_json:0\"\n",
            "7) \"school_json:2\"\n"
          ]
        }
      ],
      "source": [
        "!redis-cli $REDIS_CONN JSON.GET school_json:1 $\n",
        "!redis-cli $REDIS_CONN keys 'school_json:*'"
      ]
    },
    {
      "cell_type": "code",
      "execution_count": 50,
      "metadata": {
        "colab": {
          "base_uri": "https://localhost:8080/"
        },
        "id": "TaXmD2TFap-t",
        "outputId": "4bfcf011-5e34-4a8e-e38b-7aa02f532f83"
      },
      "outputs": [
        {
          "output_type": "stream",
          "name": "stdout",
          "text": [
            "[{'name': 'Colégio Bandeirantes', 'description': 'Abrangendo 10 estados, o currículo premiado desta escola inclui um sistema de leitura abrangente (do reconhecimento de letras e fonética à leitura de livros completos), além de matemática, ciências, estudos sociais e até filosofia.', 'class': 'independente', 'type': ['tradicional'], 'address': {'city': 'São Paulo', 'street': 'Rua Estela'}, 'students': 342, 'location': {'latitude': -23.55052, 'longitude': -46.633308}, 'status_log': ['novo', 'em operação'], 'teachers': [{'name': 'Ana Silva', 'subjects': ['Matemática', 'Física']}, {'name': 'Carlos Souza', 'subjects': ['História', 'Geografia']}], 'tags': 'excelência acadêmica, tecnologia, inovação'}]\n"
          ]
        }
      ],
      "source": [
        "# Pegue um JSON direto, desde a raiz com $\n",
        "res=r.json().get('school_json:0','$')\n",
        "print(res)\n"
      ]
    },
    {
      "cell_type": "code",
      "execution_count": 51,
      "metadata": {
        "colab": {
          "base_uri": "https://localhost:8080/"
        },
        "id": "PUfj0epdWGbz",
        "outputId": "8875d109-36be-4702-e6d8-ba27a4b0f39a"
      },
      "outputs": [
        {
          "output_type": "stream",
          "name": "stdout",
          "text": [
            "['Colégio Bandeirantes']\n",
            "[{'city': 'São Paulo', 'street': 'Rua Estela'}]\n",
            "['novo']\n"
          ]
        }
      ],
      "source": [
        "# Retorne apenas a propriedade nome\n",
        "res=r.json().get('school_json:0','$.name')\n",
        "print(res)\n",
        "\n",
        "# Embedded object ($.address) - Um Address pertence a uma Escola - 1:1\n",
        "res=r.json().get('school_json:0','$.address')\n",
        "print(res)\n",
        "\n",
        "# E agora um elemento de um array\n",
        "res=r.json().get('school_json:0','$.status_log[0]')\n",
        "print(res)"
      ]
    },
    {
      "cell_type": "code",
      "execution_count": 52,
      "metadata": {
        "colab": {
          "base_uri": "https://localhost:8080/"
        },
        "id": "u9kw-6QdbfpV",
        "outputId": "20ae6583-fbed-4b9f-ca9c-1fc60a36a5e0"
      },
      "outputs": [
        {
          "output_type": "stream",
          "name": "stdout",
          "text": [
            "[342]\n"
          ]
        },
        {
          "output_type": "execute_result",
          "data": {
            "text/plain": [
              "[350]"
            ]
          },
          "metadata": {},
          "execution_count": 52
        }
      ],
      "source": [
        "# Ler a quantidade de students de uma escola X. Neste caso, a primeira!\n",
        "students=r.json().get('school_json:0','$.students')\n",
        "print(students)\n",
        "\n",
        "# Mudar pra 350 alunos e refazer o mesmo comando.\n",
        "# sempre atomico, sempre O(1).\n",
        "r.json().set('school_json:0','$.students',350)\n",
        "r.json().get('school_json:0','$.students')"
      ]
    },
    {
      "cell_type": "code",
      "execution_count": 53,
      "metadata": {
        "colab": {
          "base_uri": "https://localhost:8080/"
        },
        "id": "09i6hh4acIh_",
        "outputId": "4390a7d2-b6fa-4bda-c8fb-a91ae0c0eb91"
      },
      "outputs": [
        {
          "output_type": "execute_result",
          "data": {
            "text/plain": [
              "[351]"
            ]
          },
          "metadata": {},
          "execution_count": 53
        }
      ],
      "source": [
        "# Incremento atomico do numero de estudandes da escola-alvo... sempre O(1)\n",
        "# Pode clicar algumas vezes! O numincrby vai retornar o novo numero de Estudantes da Escola, assim como na CLI/API.\n",
        "r.json().numincrby('school_json:0','$.students',1)"
      ]
    },
    {
      "cell_type": "markdown",
      "metadata": {
        "id": "jpJW1d87lIJr"
      },
      "source": [
        "## RediSearch - Dando mais poderes para o que já é brabo\n",
        "\n",
        "**RediSearch** adiciona a capacidade de consultar dados nas suas estruturas de dados **HASH** ou **JSON**, **essencialmente transformando o Redis em um banco de dados de documentos.** Sim.\n",
        "\n",
        "Com o RediSearch, você declara índices uma vez e, em seguida, cada objeto de banco de dados que corresponder ao prefixo definido no índice será automaticamente e em tempo real adicionado ao índice.\n",
        "\n",
        "Naturalmente, o que já estiver no Redis será indexado também, a não ser que você não queira. Existem vários designs diferentes para esse tema, incluindo indices pequenos de com curto lifespan. Alguns clientes usam esse modelo para tornar a experiencia de um cliente mais fluida e com menor percepção de latência.\\\n",
        "*Por exemplo, você cria um determinado indice que só vai servir durante a jornada de um cliente logado, até o checkout, e depois vc manda o índice pro beleléu.*\n",
        "\n",
        "\n",
        "-----\n",
        "\n",
        "Para a lista completa de comandos do RediSearch, veja: https://redis.io/commands/?group=search\n",
        "\n",
        "Documentação Python: https://redis-py.readthedocs.io/en/stable/redismodules.html#redisearch-commands"
      ]
    },
    {
      "cell_type": "code",
      "execution_count": 56,
      "metadata": {
        "colab": {
          "base_uri": "https://localhost:8080/"
        },
        "id": "O_2g-lCadPsB",
        "outputId": "d4f2f991-6bff-4c8d-fe36-2e6c27920240"
      },
      "outputs": [
        {
          "output_type": "execute_result",
          "data": {
            "text/plain": [
              "b'OK'"
            ]
          },
          "metadata": {},
          "execution_count": 56
        }
      ],
      "source": [
        "# Aqui eu quero trazer a sua atencao para o schema.\n",
        "# Notem como eu explico para o Redis como tratar o JSON como um objeto mesmo, considerando seus atributos/propriedades.\n",
        "# estamos apenas comecando! esse indice nem inclui geoloc ou vetor (ainda, rsrs, vamos ver juntos em breve)\n",
        "\n",
        "from redis.commands.search.field import (\n",
        "    NumericField,\n",
        "    TagField,\n",
        "    TextField,\n",
        "    VectorField,\n",
        ")\n",
        "from redis.commands.search.indexDefinition import IndexDefinition, IndexType\n",
        "from redis.commands.search.query import Query\n",
        "\n",
        "# Excluir o índice se ele já existir\n",
        "try:\n",
        "    r.ft(\"idx:schools_json\").dropindex(delete_documents=False)\n",
        "except:\n",
        "    pass\n",
        "\n",
        "# E aqui criamos o index pra valer. Nem vou colocar vector e geoloc agora, pra gente nao confundir.\n",
        "schema = (\n",
        "    TextField(\"$.name\", as_name=\"name\"),\n",
        "    TextField(\"$.description\", as_name=\"description\"),\n",
        "    TagField(\"$.address.city\", as_name=\"city\"),\n",
        "    NumericField(\"$.students\", as_name=\"students\"),\n",
        "    TagField(\"$.tags\", as_name=\"tags\", separator=\",\")\n",
        "    )\n",
        "r.ft(\"idx:schools_json\").create_index(schema,\n",
        "                    definition=IndexDefinition(prefix=[\"school_json:\"],\n",
        "                    index_type=IndexType.JSON)\n",
        "                    )"
      ]
    },
    {
      "cell_type": "markdown",
      "source": [
        "### Testando o Setup com uma Full-Text search\n",
        "\n",
        "Também existem tags para exact match, belê?\n",
        "\n",
        "\n",
        "Não quero te confundir agora, mas os casos de uso vão do básico até avançadíssimos, como você pode ver [aqui](https://redis.io/docs/latest/develop/interact/search-and-query/advanced-concepts/)."
      ],
      "metadata": {
        "id": "JM4PKek6YClt"
      }
    },
    {
      "cell_type": "code",
      "execution_count": 57,
      "metadata": {
        "colab": {
          "base_uri": "https://localhost:8080/",
          "height": 81
        },
        "id": "PKMJeXfpe9Xp",
        "outputId": "1dbbc527-8852-49c5-a8b0-f14c381a2a69"
      },
      "outputs": [
        {
          "output_type": "execute_result",
          "data": {
            "text/plain": [
              "              id payload                                               json\n",
              "0  school_json:1    None  {\"name\":\"Escola Maria Imaculada (Chapel School..."
            ],
            "text/html": [
              "\n",
              "  <div id=\"df-a9c5a049-8ce3-460a-96c3-51bac1b4b1a9\" class=\"colab-df-container\">\n",
              "    <div>\n",
              "<style scoped>\n",
              "    .dataframe tbody tr th:only-of-type {\n",
              "        vertical-align: middle;\n",
              "    }\n",
              "\n",
              "    .dataframe tbody tr th {\n",
              "        vertical-align: top;\n",
              "    }\n",
              "\n",
              "    .dataframe thead th {\n",
              "        text-align: right;\n",
              "    }\n",
              "</style>\n",
              "<table border=\"1\" class=\"dataframe\">\n",
              "  <thead>\n",
              "    <tr style=\"text-align: right;\">\n",
              "      <th></th>\n",
              "      <th>id</th>\n",
              "      <th>payload</th>\n",
              "      <th>json</th>\n",
              "    </tr>\n",
              "  </thead>\n",
              "  <tbody>\n",
              "    <tr>\n",
              "      <th>0</th>\n",
              "      <td>school_json:1</td>\n",
              "      <td>None</td>\n",
              "      <td>{\"name\":\"Escola Maria Imaculada (Chapel School...</td>\n",
              "    </tr>\n",
              "  </tbody>\n",
              "</table>\n",
              "</div>\n",
              "    <div class=\"colab-df-buttons\">\n",
              "\n",
              "  <div class=\"colab-df-container\">\n",
              "    <button class=\"colab-df-convert\" onclick=\"convertToInteractive('df-a9c5a049-8ce3-460a-96c3-51bac1b4b1a9')\"\n",
              "            title=\"Convert this dataframe to an interactive table.\"\n",
              "            style=\"display:none;\">\n",
              "\n",
              "  <svg xmlns=\"http://www.w3.org/2000/svg\" height=\"24px\" viewBox=\"0 -960 960 960\">\n",
              "    <path d=\"M120-120v-720h720v720H120Zm60-500h600v-160H180v160Zm220 220h160v-160H400v160Zm0 220h160v-160H400v160ZM180-400h160v-160H180v160Zm440 0h160v-160H620v160ZM180-180h160v-160H180v160Zm440 0h160v-160H620v160Z\"/>\n",
              "  </svg>\n",
              "    </button>\n",
              "\n",
              "  <style>\n",
              "    .colab-df-container {\n",
              "      display:flex;\n",
              "      gap: 12px;\n",
              "    }\n",
              "\n",
              "    .colab-df-convert {\n",
              "      background-color: #E8F0FE;\n",
              "      border: none;\n",
              "      border-radius: 50%;\n",
              "      cursor: pointer;\n",
              "      display: none;\n",
              "      fill: #1967D2;\n",
              "      height: 32px;\n",
              "      padding: 0 0 0 0;\n",
              "      width: 32px;\n",
              "    }\n",
              "\n",
              "    .colab-df-convert:hover {\n",
              "      background-color: #E2EBFA;\n",
              "      box-shadow: 0px 1px 2px rgba(60, 64, 67, 0.3), 0px 1px 3px 1px rgba(60, 64, 67, 0.15);\n",
              "      fill: #174EA6;\n",
              "    }\n",
              "\n",
              "    .colab-df-buttons div {\n",
              "      margin-bottom: 4px;\n",
              "    }\n",
              "\n",
              "    [theme=dark] .colab-df-convert {\n",
              "      background-color: #3B4455;\n",
              "      fill: #D2E3FC;\n",
              "    }\n",
              "\n",
              "    [theme=dark] .colab-df-convert:hover {\n",
              "      background-color: #434B5C;\n",
              "      box-shadow: 0px 1px 3px 1px rgba(0, 0, 0, 0.15);\n",
              "      filter: drop-shadow(0px 1px 2px rgba(0, 0, 0, 0.3));\n",
              "      fill: #FFFFFF;\n",
              "    }\n",
              "  </style>\n",
              "\n",
              "    <script>\n",
              "      const buttonEl =\n",
              "        document.querySelector('#df-a9c5a049-8ce3-460a-96c3-51bac1b4b1a9 button.colab-df-convert');\n",
              "      buttonEl.style.display =\n",
              "        google.colab.kernel.accessAllowed ? 'block' : 'none';\n",
              "\n",
              "      async function convertToInteractive(key) {\n",
              "        const element = document.querySelector('#df-a9c5a049-8ce3-460a-96c3-51bac1b4b1a9');\n",
              "        const dataTable =\n",
              "          await google.colab.kernel.invokeFunction('convertToInteractive',\n",
              "                                                    [key], {});\n",
              "        if (!dataTable) return;\n",
              "\n",
              "        const docLinkHtml = 'Like what you see? Visit the ' +\n",
              "          '<a target=\"_blank\" href=https://colab.research.google.com/notebooks/data_table.ipynb>data table notebook</a>'\n",
              "          + ' to learn more about interactive tables.';\n",
              "        element.innerHTML = '';\n",
              "        dataTable['output_type'] = 'display_data';\n",
              "        await google.colab.output.renderOutput(dataTable, element);\n",
              "        const docLink = document.createElement('div');\n",
              "        docLink.innerHTML = docLinkHtml;\n",
              "        element.appendChild(docLink);\n",
              "      }\n",
              "    </script>\n",
              "  </div>\n",
              "\n",
              "    </div>\n",
              "  </div>\n"
            ],
            "application/vnd.google.colaboratory.intrinsic+json": {
              "type": "dataframe",
              "variable_name": "res_df",
              "repr_error": "Out of range float values are not JSON compliant: nan"
            }
          },
          "metadata": {},
          "execution_count": 57
        }
      ],
      "source": [
        "import pandas as pd\n",
        "# Retorne o Documento inteiro! Aqui fizemos uma Full-Text Search por nature.\n",
        "res=r.ft(\"idx:schools_json\").search(\"nature\")\n",
        "res_df = pd.DataFrame([t.__dict__ for t in res.docs ])\n",
        "res_df"
      ]
    },
    {
      "cell_type": "code",
      "execution_count": 58,
      "metadata": {
        "colab": {
          "base_uri": "https://localhost:8080/",
          "height": 81
        },
        "id": "OGKiSpQ-hUMp",
        "outputId": "fb72f1c9-989a-48b0-a956-f84f2f726bf2"
      },
      "outputs": [
        {
          "output_type": "execute_result",
          "data": {
            "text/plain": [
              "              id payload       city                                    name\n",
              "0  school_json:1    None  São Paulo  Escola Maria Imaculada (Chapel School)"
            ],
            "text/html": [
              "\n",
              "  <div id=\"df-e7199420-3b5e-4d87-882d-6e15d3b17f07\" class=\"colab-df-container\">\n",
              "    <div>\n",
              "<style scoped>\n",
              "    .dataframe tbody tr th:only-of-type {\n",
              "        vertical-align: middle;\n",
              "    }\n",
              "\n",
              "    .dataframe tbody tr th {\n",
              "        vertical-align: top;\n",
              "    }\n",
              "\n",
              "    .dataframe thead th {\n",
              "        text-align: right;\n",
              "    }\n",
              "</style>\n",
              "<table border=\"1\" class=\"dataframe\">\n",
              "  <thead>\n",
              "    <tr style=\"text-align: right;\">\n",
              "      <th></th>\n",
              "      <th>id</th>\n",
              "      <th>payload</th>\n",
              "      <th>city</th>\n",
              "      <th>name</th>\n",
              "    </tr>\n",
              "  </thead>\n",
              "  <tbody>\n",
              "    <tr>\n",
              "      <th>0</th>\n",
              "      <td>school_json:1</td>\n",
              "      <td>None</td>\n",
              "      <td>São Paulo</td>\n",
              "      <td>Escola Maria Imaculada (Chapel School)</td>\n",
              "    </tr>\n",
              "  </tbody>\n",
              "</table>\n",
              "</div>\n",
              "    <div class=\"colab-df-buttons\">\n",
              "\n",
              "  <div class=\"colab-df-container\">\n",
              "    <button class=\"colab-df-convert\" onclick=\"convertToInteractive('df-e7199420-3b5e-4d87-882d-6e15d3b17f07')\"\n",
              "            title=\"Convert this dataframe to an interactive table.\"\n",
              "            style=\"display:none;\">\n",
              "\n",
              "  <svg xmlns=\"http://www.w3.org/2000/svg\" height=\"24px\" viewBox=\"0 -960 960 960\">\n",
              "    <path d=\"M120-120v-720h720v720H120Zm60-500h600v-160H180v160Zm220 220h160v-160H400v160Zm0 220h160v-160H400v160ZM180-400h160v-160H180v160Zm440 0h160v-160H620v160ZM180-180h160v-160H180v160Zm440 0h160v-160H620v160Z\"/>\n",
              "  </svg>\n",
              "    </button>\n",
              "\n",
              "  <style>\n",
              "    .colab-df-container {\n",
              "      display:flex;\n",
              "      gap: 12px;\n",
              "    }\n",
              "\n",
              "    .colab-df-convert {\n",
              "      background-color: #E8F0FE;\n",
              "      border: none;\n",
              "      border-radius: 50%;\n",
              "      cursor: pointer;\n",
              "      display: none;\n",
              "      fill: #1967D2;\n",
              "      height: 32px;\n",
              "      padding: 0 0 0 0;\n",
              "      width: 32px;\n",
              "    }\n",
              "\n",
              "    .colab-df-convert:hover {\n",
              "      background-color: #E2EBFA;\n",
              "      box-shadow: 0px 1px 2px rgba(60, 64, 67, 0.3), 0px 1px 3px 1px rgba(60, 64, 67, 0.15);\n",
              "      fill: #174EA6;\n",
              "    }\n",
              "\n",
              "    .colab-df-buttons div {\n",
              "      margin-bottom: 4px;\n",
              "    }\n",
              "\n",
              "    [theme=dark] .colab-df-convert {\n",
              "      background-color: #3B4455;\n",
              "      fill: #D2E3FC;\n",
              "    }\n",
              "\n",
              "    [theme=dark] .colab-df-convert:hover {\n",
              "      background-color: #434B5C;\n",
              "      box-shadow: 0px 1px 3px 1px rgba(0, 0, 0, 0.15);\n",
              "      filter: drop-shadow(0px 1px 2px rgba(0, 0, 0, 0.3));\n",
              "      fill: #FFFFFF;\n",
              "    }\n",
              "  </style>\n",
              "\n",
              "    <script>\n",
              "      const buttonEl =\n",
              "        document.querySelector('#df-e7199420-3b5e-4d87-882d-6e15d3b17f07 button.colab-df-convert');\n",
              "      buttonEl.style.display =\n",
              "        google.colab.kernel.accessAllowed ? 'block' : 'none';\n",
              "\n",
              "      async function convertToInteractive(key) {\n",
              "        const element = document.querySelector('#df-e7199420-3b5e-4d87-882d-6e15d3b17f07');\n",
              "        const dataTable =\n",
              "          await google.colab.kernel.invokeFunction('convertToInteractive',\n",
              "                                                    [key], {});\n",
              "        if (!dataTable) return;\n",
              "\n",
              "        const docLinkHtml = 'Like what you see? Visit the ' +\n",
              "          '<a target=\"_blank\" href=https://colab.research.google.com/notebooks/data_table.ipynb>data table notebook</a>'\n",
              "          + ' to learn more about interactive tables.';\n",
              "        element.innerHTML = '';\n",
              "        dataTable['output_type'] = 'display_data';\n",
              "        await google.colab.output.renderOutput(dataTable, element);\n",
              "        const docLink = document.createElement('div');\n",
              "        docLink.innerHTML = docLinkHtml;\n",
              "        element.appendChild(docLink);\n",
              "      }\n",
              "    </script>\n",
              "  </div>\n",
              "\n",
              "    </div>\n",
              "  </div>\n"
            ],
            "application/vnd.google.colaboratory.intrinsic+json": {
              "type": "dataframe",
              "variable_name": "res_df",
              "repr_error": "Out of range float values are not JSON compliant: nan"
            }
          },
          "metadata": {},
          "execution_count": 58
        }
      ],
      "source": [
        "# Retorne apenas alguns campos, para evitar passar coisas e metadados desnecessários pelo fio, do Redis para sua App.\n",
        "query=Query(\"nature\") \\\n",
        "   .return_field(\"$.address.city\", as_field=\"city\") \\\n",
        "   .return_field(\"$.name\", as_field=\"name\")\n",
        "res=r.ft(\"idx:schools_json\").search(query)\n",
        "res_df = pd.DataFrame([t.__dict__ for t in res.docs ])\n",
        "res_df"
      ]
    },
    {
      "cell_type": "code",
      "execution_count": 59,
      "metadata": {
        "colab": {
          "base_uri": "https://localhost:8080/",
          "height": 238
        },
        "id": "yMK3P7g5j7v5",
        "outputId": "5e4a3efa-fc87-4e7e-dad5-76725b8b678e"
      },
      "outputs": [
        {
          "output_type": "execute_result",
          "data": {
            "text/plain": [
              "              id payload       city                                    name  \\\n",
              "0  school_json:5    None  São Paulo                      Colégio Santa Cruz   \n",
              "1  school_json:4    None  São Paulo                           Escola Móbile   \n",
              "2  school_json:6    None  São Paulo                      Colégio Rio Branco   \n",
              "3  school_json:0    None  São Paulo                    Colégio Bandeirantes   \n",
              "4  school_json:2    None  São Paulo                        Colégio São Luís   \n",
              "5  school_json:1    None  São Paulo  Escola Maria Imaculada (Chapel School)   \n",
              "\n",
              "  students  \n",
              "0     1300  \n",
              "1      600  \n",
              "2     1100  \n",
              "3      351  \n",
              "4      721  \n",
              "5     1452  "
            ],
            "text/html": [
              "\n",
              "  <div id=\"df-55159d25-33e1-4d05-8367-5fdd28e6ab3d\" class=\"colab-df-container\">\n",
              "    <div>\n",
              "<style scoped>\n",
              "    .dataframe tbody tr th:only-of-type {\n",
              "        vertical-align: middle;\n",
              "    }\n",
              "\n",
              "    .dataframe tbody tr th {\n",
              "        vertical-align: top;\n",
              "    }\n",
              "\n",
              "    .dataframe thead th {\n",
              "        text-align: right;\n",
              "    }\n",
              "</style>\n",
              "<table border=\"1\" class=\"dataframe\">\n",
              "  <thead>\n",
              "    <tr style=\"text-align: right;\">\n",
              "      <th></th>\n",
              "      <th>id</th>\n",
              "      <th>payload</th>\n",
              "      <th>city</th>\n",
              "      <th>name</th>\n",
              "      <th>students</th>\n",
              "    </tr>\n",
              "  </thead>\n",
              "  <tbody>\n",
              "    <tr>\n",
              "      <th>0</th>\n",
              "      <td>school_json:5</td>\n",
              "      <td>None</td>\n",
              "      <td>São Paulo</td>\n",
              "      <td>Colégio Santa Cruz</td>\n",
              "      <td>1300</td>\n",
              "    </tr>\n",
              "    <tr>\n",
              "      <th>1</th>\n",
              "      <td>school_json:4</td>\n",
              "      <td>None</td>\n",
              "      <td>São Paulo</td>\n",
              "      <td>Escola Móbile</td>\n",
              "      <td>600</td>\n",
              "    </tr>\n",
              "    <tr>\n",
              "      <th>2</th>\n",
              "      <td>school_json:6</td>\n",
              "      <td>None</td>\n",
              "      <td>São Paulo</td>\n",
              "      <td>Colégio Rio Branco</td>\n",
              "      <td>1100</td>\n",
              "    </tr>\n",
              "    <tr>\n",
              "      <th>3</th>\n",
              "      <td>school_json:0</td>\n",
              "      <td>None</td>\n",
              "      <td>São Paulo</td>\n",
              "      <td>Colégio Bandeirantes</td>\n",
              "      <td>351</td>\n",
              "    </tr>\n",
              "    <tr>\n",
              "      <th>4</th>\n",
              "      <td>school_json:2</td>\n",
              "      <td>None</td>\n",
              "      <td>São Paulo</td>\n",
              "      <td>Colégio São Luís</td>\n",
              "      <td>721</td>\n",
              "    </tr>\n",
              "    <tr>\n",
              "      <th>5</th>\n",
              "      <td>school_json:1</td>\n",
              "      <td>None</td>\n",
              "      <td>São Paulo</td>\n",
              "      <td>Escola Maria Imaculada (Chapel School)</td>\n",
              "      <td>1452</td>\n",
              "    </tr>\n",
              "  </tbody>\n",
              "</table>\n",
              "</div>\n",
              "    <div class=\"colab-df-buttons\">\n",
              "\n",
              "  <div class=\"colab-df-container\">\n",
              "    <button class=\"colab-df-convert\" onclick=\"convertToInteractive('df-55159d25-33e1-4d05-8367-5fdd28e6ab3d')\"\n",
              "            title=\"Convert this dataframe to an interactive table.\"\n",
              "            style=\"display:none;\">\n",
              "\n",
              "  <svg xmlns=\"http://www.w3.org/2000/svg\" height=\"24px\" viewBox=\"0 -960 960 960\">\n",
              "    <path d=\"M120-120v-720h720v720H120Zm60-500h600v-160H180v160Zm220 220h160v-160H400v160Zm0 220h160v-160H400v160ZM180-400h160v-160H180v160Zm440 0h160v-160H620v160ZM180-180h160v-160H180v160Zm440 0h160v-160H620v160Z\"/>\n",
              "  </svg>\n",
              "    </button>\n",
              "\n",
              "  <style>\n",
              "    .colab-df-container {\n",
              "      display:flex;\n",
              "      gap: 12px;\n",
              "    }\n",
              "\n",
              "    .colab-df-convert {\n",
              "      background-color: #E8F0FE;\n",
              "      border: none;\n",
              "      border-radius: 50%;\n",
              "      cursor: pointer;\n",
              "      display: none;\n",
              "      fill: #1967D2;\n",
              "      height: 32px;\n",
              "      padding: 0 0 0 0;\n",
              "      width: 32px;\n",
              "    }\n",
              "\n",
              "    .colab-df-convert:hover {\n",
              "      background-color: #E2EBFA;\n",
              "      box-shadow: 0px 1px 2px rgba(60, 64, 67, 0.3), 0px 1px 3px 1px rgba(60, 64, 67, 0.15);\n",
              "      fill: #174EA6;\n",
              "    }\n",
              "\n",
              "    .colab-df-buttons div {\n",
              "      margin-bottom: 4px;\n",
              "    }\n",
              "\n",
              "    [theme=dark] .colab-df-convert {\n",
              "      background-color: #3B4455;\n",
              "      fill: #D2E3FC;\n",
              "    }\n",
              "\n",
              "    [theme=dark] .colab-df-convert:hover {\n",
              "      background-color: #434B5C;\n",
              "      box-shadow: 0px 1px 3px 1px rgba(0, 0, 0, 0.15);\n",
              "      filter: drop-shadow(0px 1px 2px rgba(0, 0, 0, 0.3));\n",
              "      fill: #FFFFFF;\n",
              "    }\n",
              "  </style>\n",
              "\n",
              "    <script>\n",
              "      const buttonEl =\n",
              "        document.querySelector('#df-55159d25-33e1-4d05-8367-5fdd28e6ab3d button.colab-df-convert');\n",
              "      buttonEl.style.display =\n",
              "        google.colab.kernel.accessAllowed ? 'block' : 'none';\n",
              "\n",
              "      async function convertToInteractive(key) {\n",
              "        const element = document.querySelector('#df-55159d25-33e1-4d05-8367-5fdd28e6ab3d');\n",
              "        const dataTable =\n",
              "          await google.colab.kernel.invokeFunction('convertToInteractive',\n",
              "                                                    [key], {});\n",
              "        if (!dataTable) return;\n",
              "\n",
              "        const docLinkHtml = 'Like what you see? Visit the ' +\n",
              "          '<a target=\"_blank\" href=https://colab.research.google.com/notebooks/data_table.ipynb>data table notebook</a>'\n",
              "          + ' to learn more about interactive tables.';\n",
              "        element.innerHTML = '';\n",
              "        dataTable['output_type'] = 'display_data';\n",
              "        await google.colab.output.renderOutput(dataTable, element);\n",
              "        const docLink = document.createElement('div');\n",
              "        docLink.innerHTML = docLinkHtml;\n",
              "        element.appendChild(docLink);\n",
              "      }\n",
              "    </script>\n",
              "  </div>\n",
              "\n",
              "\n",
              "<div id=\"df-a8e0d3b4-3f15-4b31-9429-400de5538bab\">\n",
              "  <button class=\"colab-df-quickchart\" onclick=\"quickchart('df-a8e0d3b4-3f15-4b31-9429-400de5538bab')\"\n",
              "            title=\"Suggest charts\"\n",
              "            style=\"display:none;\">\n",
              "\n",
              "<svg xmlns=\"http://www.w3.org/2000/svg\" height=\"24px\"viewBox=\"0 0 24 24\"\n",
              "     width=\"24px\">\n",
              "    <g>\n",
              "        <path d=\"M19 3H5c-1.1 0-2 .9-2 2v14c0 1.1.9 2 2 2h14c1.1 0 2-.9 2-2V5c0-1.1-.9-2-2-2zM9 17H7v-7h2v7zm4 0h-2V7h2v10zm4 0h-2v-4h2v4z\"/>\n",
              "    </g>\n",
              "</svg>\n",
              "  </button>\n",
              "\n",
              "<style>\n",
              "  .colab-df-quickchart {\n",
              "      --bg-color: #E8F0FE;\n",
              "      --fill-color: #1967D2;\n",
              "      --hover-bg-color: #E2EBFA;\n",
              "      --hover-fill-color: #174EA6;\n",
              "      --disabled-fill-color: #AAA;\n",
              "      --disabled-bg-color: #DDD;\n",
              "  }\n",
              "\n",
              "  [theme=dark] .colab-df-quickchart {\n",
              "      --bg-color: #3B4455;\n",
              "      --fill-color: #D2E3FC;\n",
              "      --hover-bg-color: #434B5C;\n",
              "      --hover-fill-color: #FFFFFF;\n",
              "      --disabled-bg-color: #3B4455;\n",
              "      --disabled-fill-color: #666;\n",
              "  }\n",
              "\n",
              "  .colab-df-quickchart {\n",
              "    background-color: var(--bg-color);\n",
              "    border: none;\n",
              "    border-radius: 50%;\n",
              "    cursor: pointer;\n",
              "    display: none;\n",
              "    fill: var(--fill-color);\n",
              "    height: 32px;\n",
              "    padding: 0;\n",
              "    width: 32px;\n",
              "  }\n",
              "\n",
              "  .colab-df-quickchart:hover {\n",
              "    background-color: var(--hover-bg-color);\n",
              "    box-shadow: 0 1px 2px rgba(60, 64, 67, 0.3), 0 1px 3px 1px rgba(60, 64, 67, 0.15);\n",
              "    fill: var(--button-hover-fill-color);\n",
              "  }\n",
              "\n",
              "  .colab-df-quickchart-complete:disabled,\n",
              "  .colab-df-quickchart-complete:disabled:hover {\n",
              "    background-color: var(--disabled-bg-color);\n",
              "    fill: var(--disabled-fill-color);\n",
              "    box-shadow: none;\n",
              "  }\n",
              "\n",
              "  .colab-df-spinner {\n",
              "    border: 2px solid var(--fill-color);\n",
              "    border-color: transparent;\n",
              "    border-bottom-color: var(--fill-color);\n",
              "    animation:\n",
              "      spin 1s steps(1) infinite;\n",
              "  }\n",
              "\n",
              "  @keyframes spin {\n",
              "    0% {\n",
              "      border-color: transparent;\n",
              "      border-bottom-color: var(--fill-color);\n",
              "      border-left-color: var(--fill-color);\n",
              "    }\n",
              "    20% {\n",
              "      border-color: transparent;\n",
              "      border-left-color: var(--fill-color);\n",
              "      border-top-color: var(--fill-color);\n",
              "    }\n",
              "    30% {\n",
              "      border-color: transparent;\n",
              "      border-left-color: var(--fill-color);\n",
              "      border-top-color: var(--fill-color);\n",
              "      border-right-color: var(--fill-color);\n",
              "    }\n",
              "    40% {\n",
              "      border-color: transparent;\n",
              "      border-right-color: var(--fill-color);\n",
              "      border-top-color: var(--fill-color);\n",
              "    }\n",
              "    60% {\n",
              "      border-color: transparent;\n",
              "      border-right-color: var(--fill-color);\n",
              "    }\n",
              "    80% {\n",
              "      border-color: transparent;\n",
              "      border-right-color: var(--fill-color);\n",
              "      border-bottom-color: var(--fill-color);\n",
              "    }\n",
              "    90% {\n",
              "      border-color: transparent;\n",
              "      border-bottom-color: var(--fill-color);\n",
              "    }\n",
              "  }\n",
              "</style>\n",
              "\n",
              "  <script>\n",
              "    async function quickchart(key) {\n",
              "      const quickchartButtonEl =\n",
              "        document.querySelector('#' + key + ' button');\n",
              "      quickchartButtonEl.disabled = true;  // To prevent multiple clicks.\n",
              "      quickchartButtonEl.classList.add('colab-df-spinner');\n",
              "      try {\n",
              "        const charts = await google.colab.kernel.invokeFunction(\n",
              "            'suggestCharts', [key], {});\n",
              "      } catch (error) {\n",
              "        console.error('Error during call to suggestCharts:', error);\n",
              "      }\n",
              "      quickchartButtonEl.classList.remove('colab-df-spinner');\n",
              "      quickchartButtonEl.classList.add('colab-df-quickchart-complete');\n",
              "    }\n",
              "    (() => {\n",
              "      let quickchartButtonEl =\n",
              "        document.querySelector('#df-a8e0d3b4-3f15-4b31-9429-400de5538bab button');\n",
              "      quickchartButtonEl.style.display =\n",
              "        google.colab.kernel.accessAllowed ? 'block' : 'none';\n",
              "    })();\n",
              "  </script>\n",
              "</div>\n",
              "    </div>\n",
              "  </div>\n"
            ],
            "application/vnd.google.colaboratory.intrinsic+json": {
              "type": "dataframe",
              "variable_name": "res_df",
              "repr_error": "Out of range float values are not JSON compliant: nan"
            }
          },
          "metadata": {},
          "execution_count": 59
        }
      ],
      "source": [
        "# Busca Multi-Field, um pouquinho mais complexa\n",
        "# Notem o uso de {} para exact match de tags\n",
        "# Notem tambem que estamos vendo que o Redis eh binary-safe...\n",
        "# A Cidade, sendo uma tag, casa certinho, considerando o 'ã' de São Paulo\n",
        "query=Query('@city:{São Paulo} @students:[0, 10000]') \\\n",
        "   .return_field(\"$.address.city\", as_field=\"city\") \\\n",
        "   .return_field(\"$.name\", as_field=\"name\") \\\n",
        "   .return_field(\"$.students\", as_field=\"students\")\n",
        "res=r.ft(\"idx:schools_json\").search(query)\n",
        "#print(res)\n",
        "res_df = pd.DataFrame([t.__dict__ for t in res.docs ])\n",
        "res_df\n"
      ]
    },
    {
      "cell_type": "markdown",
      "source": [
        "# Casos de uso poderosos e mais avançados\n",
        "(não são complexos, é tranquilo entender)"
      ],
      "metadata": {
        "id": "OprC45352A8O"
      }
    },
    {
      "cell_type": "markdown",
      "source": [
        "### Busca por Tags - Encontrando escolas com características específicas\n",
        "\n",
        "Nesta seção, vamos realizar buscas utilizando tags. Tags permitem buscas exatas em campos específicos."
      ],
      "metadata": {
        "id": "0NRkDCez9VqB"
      }
    },
    {
      "cell_type": "code",
      "source": [
        "# Busca por tags exatas - binary safe - usando o melhor idioma do PLANETA: PT-BR\n",
        "query = Query('@tags:{inovação}') \\\n",
        "    .return_field(\"$.address.city\", as_field=\"city\") \\\n",
        "    .return_field(\"$.name\", as_field=\"name\")\n",
        "res = r.ft(\"idx:schools_json\").search(query)\n",
        "res_df = pd.DataFrame([t.__dict__ for t in res.docs])\n",
        "print(res_df)"
      ],
      "metadata": {
        "colab": {
          "base_uri": "https://localhost:8080/"
        },
        "id": "XnyfIEdn9WXe",
        "outputId": "81bee99d-8f6d-4d7f-d1ec-97e1ea3226b2"
      },
      "execution_count": 60,
      "outputs": [
        {
          "output_type": "stream",
          "name": "stdout",
          "text": [
            "              id payload       city                                    name\n",
            "0  school_json:0    None  São Paulo                    Colégio Bandeirantes\n",
            "1  school_json:1    None  São Paulo  Escola Maria Imaculada (Chapel School)\n"
          ]
        }
      ]
    },
    {
      "cell_type": "markdown",
      "source": [
        "### Busca por Intervalo - Quantos alunos estão matriculados?\n",
        "\n",
        "Busca por intervalo é o que você vai encontrar na doc oficial como \"Range queries\"\n",
        "\n",
        "Para realizar buscas por intervalos em campos numéricos, como a quantidade de alunos em uma escola, podemos utilizar essas consultas de intervalo.\n",
        "\n",
        "**Não se assustem com `inf+` e `inf-`!**\\\n",
        "Esses termos são utilizados para representar o intervalo máximo e mínimo, respectivamente. inf+ significa infinito positivo (o valor mais alto possível) e inf- significa infinito negativo (o valor mais baixo possível). Eles são úteis quando você quer incluir todos os valores acima ou abaixo de um determinado limite."
      ],
      "metadata": {
        "id": "2J6QSmhu_kZg"
      }
    },
    {
      "cell_type": "code",
      "source": [
        "# Aqui, vamos realizar buscas baseadas em intervalos numéricos. Neste caso, a quantidade de alunos.\n",
        "# TODO - Colocar mais ranges e mudar as cidades\n",
        "\n",
        "# Busca por escolas com entre 300 e 1000 estudantes (inclusivo)\n",
        "query = Query('@students:[300 1000]') \\\n",
        "    .return_field(\"$.address.city\", as_field=\"city\") \\\n",
        "    .return_field(\"$.name\", as_field=\"name\") \\\n",
        "    .return_field(\"$.students\", as_field=\"students\")\n",
        "res = r.ft(\"idx:schools_json\").search(query)\n",
        "res_df = pd.DataFrame([t.__dict__ for t in res.docs])\n",
        "print(\"--------------------------------------------------------------------\")\n",
        "print(\"Escolas que têm entre 300 e 1000 estudantes (inclusive)\")\n",
        "print(res_df)\n",
        "print(\"--------------------------------------------------------------------\")\n",
        "\n",
        "# Busca por escolas com mais de 1000 alunos (exclusivo)\n",
        "query = Query('@students:(1000 inf+]') \\\n",
        "    .return_field(\"$.address.city\", as_field=\"city\") \\\n",
        "    .return_field(\"$.name\", as_field=\"name\") \\\n",
        "    .return_field(\"$.students\", as_field=\"students\")\n",
        "\n",
        "res_df = pd.DataFrame([t.__dict__ for t in res.docs])\n",
        "print(\"--------------------------------------------------------------------\")\n",
        "print(\"Escolas que têm mais de 1000 estudantes (exclusive)\")\n",
        "print(res_df)\n",
        "print(\"--------------------------------------------------------------------\")\n",
        "\n",
        "\n",
        "# Busca por escolas com menos de 300 alunos (inclusivo)\n",
        "query = Query('@students:[inf- 300]') \\\n",
        "    .return_field(\"$.address.city\", as_field=\"city\") \\\n",
        "    .return_field(\"$.name\", as_field=\"name\") \\\n",
        "    .return_field(\"$.students\", as_field=\"students\")\n",
        "\n",
        "res_df = pd.DataFrame([t.__dict__ for t in res.docs])\n",
        "print(\"--------------------------------------------------------------------\")\n",
        "print(\"Escolas que têm menos de 300 estudantes (inclusive)\")\n",
        "print(res_df)\n",
        "print(\"--------------------------------------------------------------------\")\n",
        "\n",
        "\n",
        "# Busca por escolas com menos de 300 alunos (exclusivo)\n",
        "query = Query('@students:[inf- 300)') \\\n",
        "    .return_field(\"$.address.city\", as_field=\"city\") \\\n",
        "    .return_field(\"$.name\", as_field=\"name\") \\\n",
        "    .return_field(\"$.students\", as_field=\"students\")\n",
        "\n",
        "res_df = pd.DataFrame([t.__dict__ for t in res.docs])\n",
        "print(\"--------------------------------------------------------------------\")\n",
        "print(\"Escolas que têm menos de 300 estudantes (exclusive)\")\n",
        "print(res_df)\n",
        "print(\"--------------------------------------------------------------------\")\n",
        "\n"
      ],
      "metadata": {
        "colab": {
          "base_uri": "https://localhost:8080/"
        },
        "id": "M7Rar-qOA3UT",
        "outputId": "a1a8dc65-a77b-49b7-9b56-360e70fe37ce"
      },
      "execution_count": 72,
      "outputs": [
        {
          "output_type": "stream",
          "name": "stdout",
          "text": [
            "--------------------------------------------------------------------\n",
            "Escolas que têm entre 300 e 1000 estudantes (inclusive)\n",
            "              id payload       city                  name students\n",
            "0  school_json:4    None  São Paulo         Escola Móbile      600\n",
            "1  school_json:0    None  São Paulo  Colégio Bandeirantes      351\n",
            "2  school_json:2    None  São Paulo      Colégio São Luís      721\n",
            "--------------------------------------------------------------------\n",
            "--------------------------------------------------------------------\n",
            "Escolas que têm mais de 1000 estudantes (exclusive)\n",
            "              id payload       city                  name students\n",
            "0  school_json:4    None  São Paulo         Escola Móbile      600\n",
            "1  school_json:0    None  São Paulo  Colégio Bandeirantes      351\n",
            "2  school_json:2    None  São Paulo      Colégio São Luís      721\n",
            "--------------------------------------------------------------------\n",
            "--------------------------------------------------------------------\n",
            "Escolas que têm menos de 300 estudantes (inclusive)\n",
            "              id payload       city                  name students\n",
            "0  school_json:4    None  São Paulo         Escola Móbile      600\n",
            "1  school_json:0    None  São Paulo  Colégio Bandeirantes      351\n",
            "2  school_json:2    None  São Paulo      Colégio São Luís      721\n",
            "--------------------------------------------------------------------\n",
            "--------------------------------------------------------------------\n",
            "Escolas que têm menos de 300 estudantes (exclusive)\n",
            "              id payload       city                  name students\n",
            "0  school_json:4    None  São Paulo         Escola Móbile      600\n",
            "1  school_json:0    None  São Paulo  Colégio Bandeirantes      351\n",
            "2  school_json:2    None  São Paulo      Colégio São Luís      721\n",
            "--------------------------------------------------------------------\n"
          ]
        }
      ]
    },
    {
      "cell_type": "markdown",
      "source": [
        "### Fuzzy Match - \"Serasse\" eu sei escrever essa palavra?\n",
        "\n",
        "Pra fechar, apenas um exemplo leve de comunicação realista: podemos estar buscando sem saber escrever direito o termo. Esse é apenas um das dezenas de exemplos que vocês vão ter acesso na doc do Redis. Tem de redução de radicais, levando em consideração o contexto e cultura de uma determinada Língua, etc.\n",
        "\n",
        "Aqui, vamos apenas fazer uma full-text search procurando por alguma coisa meio esquisita, e vamos ver se o Redis consegue ajudar."
      ],
      "metadata": {
        "id": "MmMPjG7CdclY"
      }
    },
    {
      "cell_type": "code",
      "source": [
        "# Fuzzy matching!\n",
        "# %algumacoisa% significa todos os termos com distância de Levenshtein de 1 em relação a ele.\n",
        "# Use múltiplos pares de % para aumentar a distância de Levenshtein.\n",
        "\n",
        "query=Query('%%Bondeirants%%') \\\n",
        "   .return_field(\"$.address.city\", as_field=\"city\") \\\n",
        "   .return_field(\"$.name\", as_field=\"name\") \\\n",
        "   .return_field(\"$.students\", as_field=\"students\")\n",
        "res=r.ft(\"idx:schools_json\").search(query)\n",
        "#print(res)\n",
        "res_df = pd.DataFrame([t.__dict__ for t in res.docs ])\n",
        "res_df"
      ],
      "metadata": {
        "id": "2Y911V4pZVNS",
        "outputId": "f63ad76d-245c-45a3-ac32-7dd50e0f5c49",
        "colab": {
          "base_uri": "https://localhost:8080/",
          "height": 81
        }
      },
      "execution_count": 61,
      "outputs": [
        {
          "output_type": "execute_result",
          "data": {
            "text/plain": [
              "              id payload       city                  name students\n",
              "0  school_json:0    None  São Paulo  Colégio Bandeirantes      351"
            ],
            "text/html": [
              "\n",
              "  <div id=\"df-1a49a26a-16da-438b-b9a8-ca485dce0184\" class=\"colab-df-container\">\n",
              "    <div>\n",
              "<style scoped>\n",
              "    .dataframe tbody tr th:only-of-type {\n",
              "        vertical-align: middle;\n",
              "    }\n",
              "\n",
              "    .dataframe tbody tr th {\n",
              "        vertical-align: top;\n",
              "    }\n",
              "\n",
              "    .dataframe thead th {\n",
              "        text-align: right;\n",
              "    }\n",
              "</style>\n",
              "<table border=\"1\" class=\"dataframe\">\n",
              "  <thead>\n",
              "    <tr style=\"text-align: right;\">\n",
              "      <th></th>\n",
              "      <th>id</th>\n",
              "      <th>payload</th>\n",
              "      <th>city</th>\n",
              "      <th>name</th>\n",
              "      <th>students</th>\n",
              "    </tr>\n",
              "  </thead>\n",
              "  <tbody>\n",
              "    <tr>\n",
              "      <th>0</th>\n",
              "      <td>school_json:0</td>\n",
              "      <td>None</td>\n",
              "      <td>São Paulo</td>\n",
              "      <td>Colégio Bandeirantes</td>\n",
              "      <td>351</td>\n",
              "    </tr>\n",
              "  </tbody>\n",
              "</table>\n",
              "</div>\n",
              "    <div class=\"colab-df-buttons\">\n",
              "\n",
              "  <div class=\"colab-df-container\">\n",
              "    <button class=\"colab-df-convert\" onclick=\"convertToInteractive('df-1a49a26a-16da-438b-b9a8-ca485dce0184')\"\n",
              "            title=\"Convert this dataframe to an interactive table.\"\n",
              "            style=\"display:none;\">\n",
              "\n",
              "  <svg xmlns=\"http://www.w3.org/2000/svg\" height=\"24px\" viewBox=\"0 -960 960 960\">\n",
              "    <path d=\"M120-120v-720h720v720H120Zm60-500h600v-160H180v160Zm220 220h160v-160H400v160Zm0 220h160v-160H400v160ZM180-400h160v-160H180v160Zm440 0h160v-160H620v160ZM180-180h160v-160H180v160Zm440 0h160v-160H620v160Z\"/>\n",
              "  </svg>\n",
              "    </button>\n",
              "\n",
              "  <style>\n",
              "    .colab-df-container {\n",
              "      display:flex;\n",
              "      gap: 12px;\n",
              "    }\n",
              "\n",
              "    .colab-df-convert {\n",
              "      background-color: #E8F0FE;\n",
              "      border: none;\n",
              "      border-radius: 50%;\n",
              "      cursor: pointer;\n",
              "      display: none;\n",
              "      fill: #1967D2;\n",
              "      height: 32px;\n",
              "      padding: 0 0 0 0;\n",
              "      width: 32px;\n",
              "    }\n",
              "\n",
              "    .colab-df-convert:hover {\n",
              "      background-color: #E2EBFA;\n",
              "      box-shadow: 0px 1px 2px rgba(60, 64, 67, 0.3), 0px 1px 3px 1px rgba(60, 64, 67, 0.15);\n",
              "      fill: #174EA6;\n",
              "    }\n",
              "\n",
              "    .colab-df-buttons div {\n",
              "      margin-bottom: 4px;\n",
              "    }\n",
              "\n",
              "    [theme=dark] .colab-df-convert {\n",
              "      background-color: #3B4455;\n",
              "      fill: #D2E3FC;\n",
              "    }\n",
              "\n",
              "    [theme=dark] .colab-df-convert:hover {\n",
              "      background-color: #434B5C;\n",
              "      box-shadow: 0px 1px 3px 1px rgba(0, 0, 0, 0.15);\n",
              "      filter: drop-shadow(0px 1px 2px rgba(0, 0, 0, 0.3));\n",
              "      fill: #FFFFFF;\n",
              "    }\n",
              "  </style>\n",
              "\n",
              "    <script>\n",
              "      const buttonEl =\n",
              "        document.querySelector('#df-1a49a26a-16da-438b-b9a8-ca485dce0184 button.colab-df-convert');\n",
              "      buttonEl.style.display =\n",
              "        google.colab.kernel.accessAllowed ? 'block' : 'none';\n",
              "\n",
              "      async function convertToInteractive(key) {\n",
              "        const element = document.querySelector('#df-1a49a26a-16da-438b-b9a8-ca485dce0184');\n",
              "        const dataTable =\n",
              "          await google.colab.kernel.invokeFunction('convertToInteractive',\n",
              "                                                    [key], {});\n",
              "        if (!dataTable) return;\n",
              "\n",
              "        const docLinkHtml = 'Like what you see? Visit the ' +\n",
              "          '<a target=\"_blank\" href=https://colab.research.google.com/notebooks/data_table.ipynb>data table notebook</a>'\n",
              "          + ' to learn more about interactive tables.';\n",
              "        element.innerHTML = '';\n",
              "        dataTable['output_type'] = 'display_data';\n",
              "        await google.colab.output.renderOutput(dataTable, element);\n",
              "        const docLink = document.createElement('div');\n",
              "        docLink.innerHTML = docLinkHtml;\n",
              "        element.appendChild(docLink);\n",
              "      }\n",
              "    </script>\n",
              "  </div>\n",
              "\n",
              "    </div>\n",
              "  </div>\n"
            ],
            "application/vnd.google.colaboratory.intrinsic+json": {
              "type": "dataframe",
              "variable_name": "res_df",
              "repr_error": "Out of range float values are not JSON compliant: nan"
            }
          },
          "metadata": {},
          "execution_count": 61
        }
      ]
    }
  ],
  "metadata": {
    "colab": {
      "provenance": [],
      "include_colab_link": true
    },
    "kernelspec": {
      "display_name": "Python 3",
      "name": "python3"
    },
    "language_info": {
      "name": "python",
      "version": "3.9.6"
    }
  },
  "nbformat": 4,
  "nbformat_minor": 0
}